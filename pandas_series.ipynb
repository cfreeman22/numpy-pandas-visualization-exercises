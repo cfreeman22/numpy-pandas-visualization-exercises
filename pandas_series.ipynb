{
 "cells": [
  {
   "cell_type": "code",
   "execution_count": 1,
   "id": "84d2edf4",
   "metadata": {},
   "outputs": [],
   "source": [
    "import pandas as pd"
   ]
  },
  {
   "cell_type": "code",
   "execution_count": 22,
   "id": "40d23b48",
   "metadata": {},
   "outputs": [],
   "source": [
    "fruits =     [\"kiwi\", \"mango\", \"strawberry\", \"pineapple\", \"gala apple\", \"honeycrisp apple\", \"tomato\", \"watermelon\", \"honeydew\", \"kiwi\", \"kiwi\", \"kiwi\", \"mango\", \"blueberry\", \"blackberry\", \"gooseberry\", \"papaya\"]"
   ]
  },
  {
   "cell_type": "code",
   "execution_count": 24,
   "id": "8f3db422",
   "metadata": {},
   "outputs": [],
   "source": [
    "fruits_series = pd.Series(fruits)"
   ]
  },
  {
   "cell_type": "code",
   "execution_count": 25,
   "id": "630f42ac",
   "metadata": {},
   "outputs": [
    {
     "data": {
      "text/plain": [
       "0                 kiwi\n",
       "1                mango\n",
       "2           strawberry\n",
       "3            pineapple\n",
       "4           gala apple\n",
       "5     honeycrisp apple\n",
       "6               tomato\n",
       "7           watermelon\n",
       "8             honeydew\n",
       "9                 kiwi\n",
       "10                kiwi\n",
       "11                kiwi\n",
       "12               mango\n",
       "13           blueberry\n",
       "14          blackberry\n",
       "15          gooseberry\n",
       "16              papaya\n",
       "dtype: object"
      ]
     },
     "execution_count": 25,
     "metadata": {},
     "output_type": "execute_result"
    }
   ],
   "source": [
    "fruits_series"
   ]
  },
  {
   "cell_type": "code",
   "execution_count": 26,
   "id": "fe046388",
   "metadata": {},
   "outputs": [
    {
     "data": {
      "text/plain": [
       "17"
      ]
     },
     "execution_count": 26,
     "metadata": {},
     "output_type": "execute_result"
    }
   ],
   "source": [
    "# 1- Determine the number of elements in fruits.\n",
    "\n",
    "\n",
    "fruits_series.size"
   ]
  },
  {
   "cell_type": "code",
   "execution_count": 42,
   "id": "efac63a7",
   "metadata": {},
   "outputs": [
    {
     "data": {
      "text/plain": [
       "17"
      ]
     },
     "execution_count": 42,
     "metadata": {},
     "output_type": "execute_result"
    }
   ],
   "source": [
    "fruits_series.shape[0]"
   ]
  },
  {
   "cell_type": "code",
   "execution_count": 35,
   "id": "56cd9b7d",
   "metadata": {},
   "outputs": [
    {
     "data": {
      "text/plain": [
       "RangeIndex(start=0, stop=17, step=1)"
      ]
     },
     "execution_count": 35,
     "metadata": {},
     "output_type": "execute_result"
    }
   ],
   "source": [
    "# 2 - Output only the index from fruits.\n",
    "fruits_series.index"
   ]
  },
  {
   "cell_type": "code",
   "execution_count": 36,
   "id": "c81ecdf0",
   "metadata": {},
   "outputs": [
    {
     "data": {
      "text/plain": [
       "array(['kiwi', 'mango', 'strawberry', 'pineapple', 'gala apple',\n",
       "       'honeycrisp apple', 'tomato', 'watermelon', 'honeydew', 'kiwi',\n",
       "       'kiwi', 'kiwi', 'mango', 'blueberry', 'blackberry', 'gooseberry',\n",
       "       'papaya'], dtype=object)"
      ]
     },
     "execution_count": 36,
     "metadata": {},
     "output_type": "execute_result"
    }
   ],
   "source": [
    "#Output only the values from fruits.\n",
    "fruits_series.values"
   ]
  },
  {
   "cell_type": "code",
   "execution_count": 37,
   "id": "b2e8db71",
   "metadata": {},
   "outputs": [
    {
     "data": {
      "text/plain": [
       "dtype('O')"
      ]
     },
     "execution_count": 37,
     "metadata": {},
     "output_type": "execute_result"
    }
   ],
   "source": [
    "# 4 - Confirm the data type of the values in fruits.\n",
    "fruits_series.dtype"
   ]
  },
  {
   "cell_type": "code",
   "execution_count": 43,
   "id": "88898f91",
   "metadata": {},
   "outputs": [
    {
     "data": {
      "text/plain": [
       "0          kiwi\n",
       "1         mango\n",
       "2    strawberry\n",
       "3     pineapple\n",
       "4    gala apple\n",
       "dtype: object"
      ]
     },
     "execution_count": 43,
     "metadata": {},
     "output_type": "execute_result"
    }
   ],
   "source": [
    "# 5 - Output only the first five values from fruits.\n",
    "fruits_series.head()"
   ]
  },
  {
   "cell_type": "code",
   "execution_count": 44,
   "id": "d7624eb9",
   "metadata": {},
   "outputs": [
    {
     "data": {
      "text/plain": [
       "14    blackberry\n",
       "15    gooseberry\n",
       "16        papaya\n",
       "dtype: object"
      ]
     },
     "execution_count": 44,
     "metadata": {},
     "output_type": "execute_result"
    }
   ],
   "source": [
    "# 5 -Output the last three values.\n",
    "fruits_series.tail(3)"
   ]
  },
  {
   "cell_type": "code",
   "execution_count": 45,
   "id": "9ce3f572",
   "metadata": {},
   "outputs": [
    {
     "data": {
      "text/plain": [
       "3     pineapple\n",
       "12        mango\n",
       "dtype: object"
      ]
     },
     "execution_count": 45,
     "metadata": {},
     "output_type": "execute_result"
    }
   ],
   "source": [
    "# 5 -Output two random values from fruits.\n",
    "fruits_series.sample(2)"
   ]
  },
  {
   "cell_type": "code",
   "execution_count": 60,
   "id": "b6c98bc8",
   "metadata": {},
   "outputs": [
    {
     "data": {
      "text/plain": [
       "0                 kiwi\n",
       "1                mango\n",
       "2           strawberry\n",
       "3            pineapple\n",
       "4           gala apple\n",
       "5     honeycrisp apple\n",
       "6               tomato\n",
       "7           watermelon\n",
       "8             honeydew\n",
       "9                 kiwi\n",
       "10                kiwi\n",
       "11                kiwi\n",
       "12               mango\n",
       "13           blueberry\n",
       "14          blackberry\n",
       "15          gooseberry\n",
       "16              papaya\n",
       "dtype: object"
      ]
     },
     "execution_count": 60,
     "metadata": {},
     "output_type": "execute_result"
    }
   ],
   "source": [
    "fruits_series"
   ]
  },
  {
   "cell_type": "code",
   "execution_count": 40,
   "id": "b94d44a2",
   "metadata": {},
   "outputs": [
    {
     "data": {
      "text/plain": [
       "<bound method NDFrame.describe of 0                 kiwi\n",
       "1                mango\n",
       "2           strawberry\n",
       "3            pineapple\n",
       "4           gala apple\n",
       "5     honeycrisp apple\n",
       "6               tomato\n",
       "7           watermelon\n",
       "8             honeydew\n",
       "9                 kiwi\n",
       "10                kiwi\n",
       "11                kiwi\n",
       "12               mango\n",
       "13           blueberry\n",
       "14          blackberry\n",
       "15          gooseberry\n",
       "16              papaya\n",
       "dtype: object>"
      ]
     },
     "execution_count": 40,
     "metadata": {},
     "output_type": "execute_result"
    }
   ],
   "source": [
    "# Run the .describe() on fruits to see what information it returns when called on a Series with string values.\n",
    "fruits_series.describe"
   ]
  },
  {
   "cell_type": "code",
   "execution_count": 41,
   "id": "8a1d4f1f",
   "metadata": {},
   "outputs": [
    {
     "data": {
      "text/plain": [
       "array(['kiwi', 'mango', 'strawberry', 'pineapple', 'gala apple',\n",
       "       'honeycrisp apple', 'tomato', 'watermelon', 'honeydew',\n",
       "       'blueberry', 'blackberry', 'gooseberry', 'papaya'], dtype=object)"
      ]
     },
     "execution_count": 41,
     "metadata": {},
     "output_type": "execute_result"
    }
   ],
   "source": [
    "# 7 Run the code necessary to produce only the unique string values from fruits.\n",
    "fruits_series.unique()"
   ]
  },
  {
   "cell_type": "code",
   "execution_count": 46,
   "id": "7d131cfd",
   "metadata": {},
   "outputs": [
    {
     "data": {
      "text/plain": [
       "13"
      ]
     },
     "execution_count": 46,
     "metadata": {},
     "output_type": "execute_result"
    }
   ],
   "source": [
    "#\n",
    "fruits_series.nunique()"
   ]
  },
  {
   "cell_type": "code",
   "execution_count": 47,
   "id": "25aa7dc9",
   "metadata": {},
   "outputs": [
    {
     "data": {
      "text/plain": [
       "kiwi                4\n",
       "mango               2\n",
       "honeydew            1\n",
       "papaya              1\n",
       "honeycrisp apple    1\n",
       "watermelon          1\n",
       "gala apple          1\n",
       "gooseberry          1\n",
       "tomato              1\n",
       "strawberry          1\n",
       "pineapple           1\n",
       "blackberry          1\n",
       "blueberry           1\n",
       "dtype: int64"
      ]
     },
     "execution_count": 47,
     "metadata": {},
     "output_type": "execute_result"
    }
   ],
   "source": [
    "# 8 Determine how many times each unique string value occurs in fruits.\n",
    "fruits_series.value_counts()"
   ]
  },
  {
   "cell_type": "code",
   "execution_count": 50,
   "id": "4692567c",
   "metadata": {},
   "outputs": [
    {
     "data": {
      "text/plain": [
       "kiwi    4\n",
       "dtype: int64"
      ]
     },
     "execution_count": 50,
     "metadata": {},
     "output_type": "execute_result"
    }
   ],
   "source": [
    "# Determine the string value that occurs most frequently in fruits.\n",
    "fruits_series.value_counts().head(1)"
   ]
  },
  {
   "cell_type": "code",
   "execution_count": 51,
   "id": "5ad106c4",
   "metadata": {},
   "outputs": [
    {
     "data": {
      "text/plain": [
       "'kiwi'"
      ]
     },
     "execution_count": 51,
     "metadata": {},
     "output_type": "execute_result"
    }
   ],
   "source": [
    "fruits_series.value_counts().idxmax()"
   ]
  },
  {
   "cell_type": "code",
   "execution_count": 56,
   "id": "cc2ef6c2",
   "metadata": {},
   "outputs": [
    {
     "data": {
      "text/plain": [
       "kiwi     4\n",
       "mango    2\n",
       "dtype: int64"
      ]
     },
     "execution_count": 56,
     "metadata": {},
     "output_type": "execute_result"
    }
   ],
   "source": [
    "fruits_series.value_counts().nlargest(n= 2)"
   ]
  },
  {
   "cell_type": "code",
   "execution_count": 59,
   "id": "9edf5090",
   "metadata": {},
   "outputs": [
    {
     "data": {
      "text/plain": [
       "honeydew            1\n",
       "papaya              1\n",
       "honeycrisp apple    1\n",
       "watermelon          1\n",
       "gala apple          1\n",
       "gooseberry          1\n",
       "tomato              1\n",
       "strawberry          1\n",
       "pineapple           1\n",
       "blackberry          1\n",
       "blueberry           1\n",
       "dtype: int64"
      ]
     },
     "execution_count": 59,
     "metadata": {},
     "output_type": "execute_result"
    }
   ],
   "source": [
    "# 10 Determine the string value that occurs least frequently in fruits.\n",
    "fruits_series.value_counts().nsmallest(n= 11, keep ='all')"
   ]
  },
  {
   "cell_type": "code",
   "execution_count": null,
   "id": "52037198",
   "metadata": {},
   "outputs": [],
   "source": []
  }
 ],
 "metadata": {
  "kernelspec": {
   "display_name": "Python 3",
   "language": "python",
   "name": "python3"
  },
  "language_info": {
   "codemirror_mode": {
    "name": "ipython",
    "version": 3
   },
   "file_extension": ".py",
   "mimetype": "text/x-python",
   "name": "python",
   "nbconvert_exporter": "python",
   "pygments_lexer": "ipython3",
   "version": "3.8.8"
  }
 },
 "nbformat": 4,
 "nbformat_minor": 5
}
