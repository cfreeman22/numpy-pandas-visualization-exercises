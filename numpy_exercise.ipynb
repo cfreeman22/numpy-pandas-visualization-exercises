{
 "cells": [
  {
   "cell_type": "code",
   "execution_count": 1,
   "id": "138ef2e5",
   "metadata": {},
   "outputs": [],
   "source": [
    "import numpy as np\n",
    "\n",
    "import scipy.stats as stats"
   ]
  },
  {
   "cell_type": "code",
   "execution_count": 2,
   "id": "4204e2bf",
   "metadata": {},
   "outputs": [],
   "source": [
    "a = np.array([4,10,12,23,-2,-1,0,0,0,-6,3,-7])"
   ]
  },
  {
   "cell_type": "markdown",
   "id": "bee58765",
   "metadata": {},
   "source": [
    "### 1 - How many negative numbers are there?"
   ]
  },
  {
   "cell_type": "code",
   "execution_count": 3,
   "id": "f58ee3e8",
   "metadata": {},
   "outputs": [
    {
     "data": {
      "text/plain": [
       "4"
      ]
     },
     "execution_count": 3,
     "metadata": {},
     "output_type": "execute_result"
    }
   ],
   "source": [
    "neg_num = len(a[a<0])\n",
    "\n",
    "# There are 4 negative numbers\n",
    "\n",
    "neg_num"
   ]
  },
  {
   "cell_type": "markdown",
   "id": "940c87c3",
   "metadata": {},
   "source": [
    "### 2 -How many positive numbers are there?"
   ]
  },
  {
   "cell_type": "code",
   "execution_count": 4,
   "id": "8de6a459",
   "metadata": {},
   "outputs": [
    {
     "data": {
      "text/plain": [
       "5"
      ]
     },
     "execution_count": 4,
     "metadata": {},
     "output_type": "execute_result"
    }
   ],
   "source": [
    "pos_num = len(a[a>0])\n",
    "#There are 5 positive numbers\n",
    "pos_num"
   ]
  },
  {
   "cell_type": "markdown",
   "id": "e7b89452",
   "metadata": {},
   "source": [
    "### 3 - How many even positive numbers are there?\n"
   ]
  },
  {
   "cell_type": "code",
   "execution_count": 5,
   "id": "071205c1",
   "metadata": {},
   "outputs": [
    {
     "data": {
      "text/plain": [
       "3"
      ]
     },
     "execution_count": 5,
     "metadata": {},
     "output_type": "execute_result"
    }
   ],
   "source": [
    "pos_numbers = a[a>0]\n",
    "\n",
    "pos_even_num = pos_numbers[pos_numbers % 2 ==0]\n",
    "\n",
    "pos_even_num\n",
    "\n",
    "len(pos_even_num)\n",
    "\n",
    "# There are 3 positive even numbers"
   ]
  },
  {
   "cell_type": "markdown",
   "id": "12774f8d",
   "metadata": {},
   "source": [
    "### 4 - If you were to add 3 to each data point, how many positive numbers would there be?"
   ]
  },
  {
   "cell_type": "code",
   "execution_count": 6,
   "id": "22f10321",
   "metadata": {},
   "outputs": [
    {
     "data": {
      "text/plain": [
       "array([ 7, 13, 15, 26,  1,  2,  3,  3,  3, -3,  6, -4])"
      ]
     },
     "execution_count": 6,
     "metadata": {},
     "output_type": "execute_result"
    }
   ],
   "source": [
    "updated_a = a + 3\n",
    "\n",
    "updated_a"
   ]
  },
  {
   "cell_type": "code",
   "execution_count": 7,
   "id": "6e9a4da6",
   "metadata": {},
   "outputs": [
    {
     "data": {
      "text/plain": [
       "12"
      ]
     },
     "execution_count": 7,
     "metadata": {},
     "output_type": "execute_result"
    }
   ],
   "source": [
    "new_pos_num = updated_a[updated_a >0]\n",
    "\n",
    "new_pos_num\n",
    "\n",
    "len(updated_a)\n",
    "\n",
    "# There are 12 positive numbers with updated array"
   ]
  },
  {
   "cell_type": "markdown",
   "id": "b0a653d5",
   "metadata": {},
   "source": [
    "### 5 - If you squared each number, what would the new mean and standard deviation be?"
   ]
  },
  {
   "cell_type": "code",
   "execution_count": 8,
   "id": "7ca967cc",
   "metadata": {},
   "outputs": [
    {
     "data": {
      "text/plain": [
       "3.0"
      ]
     },
     "execution_count": 8,
     "metadata": {},
     "output_type": "execute_result"
    }
   ],
   "source": [
    "# assuming we are working now with the original array\n",
    "original_mean = np.mean(a)\n",
    "original_mean"
   ]
  },
  {
   "cell_type": "code",
   "execution_count": 9,
   "id": "a005449a",
   "metadata": {},
   "outputs": [
    {
     "data": {
      "text/plain": [
       "8.06225774829855"
      ]
     },
     "execution_count": 9,
     "metadata": {},
     "output_type": "execute_result"
    }
   ],
   "source": [
    "standard_dev = np.std(a)\n",
    "standard_dev"
   ]
  },
  {
   "cell_type": "code",
   "execution_count": 10,
   "id": "8d0f49bb",
   "metadata": {},
   "outputs": [
    {
     "data": {
      "text/plain": [
       "array([ 16, 100, 144, 529,   4,   1,   0,   0,   0,  36,   9,  49])"
      ]
     },
     "execution_count": 10,
     "metadata": {},
     "output_type": "execute_result"
    }
   ],
   "source": [
    "a_squared = a ** 2\n",
    "\n",
    "a_squared"
   ]
  },
  {
   "cell_type": "code",
   "execution_count": 11,
   "id": "0c71fdbf",
   "metadata": {},
   "outputs": [
    {
     "data": {
      "text/plain": [
       "74.0"
      ]
     },
     "execution_count": 11,
     "metadata": {},
     "output_type": "execute_result"
    }
   ],
   "source": [
    "new_mean = np.mean(a_squared)\n",
    "\n",
    "new_mean\n",
    "#New mean will be 74.0"
   ]
  },
  {
   "cell_type": "code",
   "execution_count": 12,
   "id": "ae044f30",
   "metadata": {},
   "outputs": [
    {
     "data": {
      "text/plain": [
       "144.0243035046516"
      ]
     },
     "execution_count": 12,
     "metadata": {},
     "output_type": "execute_result"
    }
   ],
   "source": [
    "new_stdv = np.std(a_squared)\n",
    "\n",
    "new_stdv\n",
    "# New stdv will be 144.024"
   ]
  },
  {
   "cell_type": "markdown",
   "id": "7a8cb6bb",
   "metadata": {},
   "source": [
    "### 6 - Center the data set"
   ]
  },
  {
   "cell_type": "code",
   "execution_count": 13,
   "id": "c0b5fb3d",
   "metadata": {},
   "outputs": [
    {
     "data": {
      "text/plain": [
       "array([  1.,   7.,   9.,  20.,  -5.,  -4.,  -3.,  -3.,  -3.,  -9.,   0.,\n",
       "       -10.])"
      ]
     },
     "execution_count": 13,
     "metadata": {},
     "output_type": "execute_result"
    }
   ],
   "source": [
    "data_centered = a - a.mean()\n",
    "\n",
    "data_centered"
   ]
  },
  {
   "cell_type": "markdown",
   "id": "7e923ac7",
   "metadata": {},
   "source": [
    "### - 7 Calculate the z-score for each data point."
   ]
  },
  {
   "cell_type": "code",
   "execution_count": 14,
   "id": "81fe1f72",
   "metadata": {},
   "outputs": [
    {
     "data": {
      "text/plain": [
       "array([ 0.12403473,  0.86824314,  1.11631261,  2.48069469, -0.62017367,\n",
       "       -0.49613894, -0.3721042 , -0.3721042 , -0.3721042 , -1.11631261,\n",
       "        0.        , -1.24034735])"
      ]
     },
     "execution_count": 14,
     "metadata": {},
     "output_type": "execute_result"
    }
   ],
   "source": [
    "z_score = stats.zscore(a)\n",
    "\n",
    "z_score"
   ]
  },
  {
   "cell_type": "markdown",
   "id": "0cf63155",
   "metadata": {},
   "source": [
    "### 8 - Copy the setup and exercise directions from More Numpy Practice "
   ]
  },
  {
   "cell_type": "markdown",
   "id": "8f4b5adc",
   "metadata": {},
   "source": [
    "### Setup 1\n",
    "a = [1, 2, 3, 4, 5, 6, 7, 8, 9, 10]\n",
    "\n",
    "#### Use python's built in functionality/operators to determine the following:\n",
    "#### Exercise 1 - Make a variable called sum_of_a to hold the sum of all the numbers in above list\n",
    "\n",
    "#### Exercise 2 - Make a variable named min_of_a to hold the minimum of all the numbers in the above list\n",
    "\n",
    "#### Exercise 3 - Make a variable named max_of_a to hold the max number of all the numbers in the above list\n",
    "\n",
    "#### Exercise 4 - Make a variable named mean_of_a to hold the average of all the numbers in the above list\n",
    "\n",
    "#### Exercise 5 - Make a variable named product_of_a to hold the product of multiplying all the numbers in the above list together\n",
    "\n",
    "#### Exercise 6 - Make a variable named squares_of_a. It should hold each number in a squared like [1, 4, 9, 16, 25...]\n",
    "\n",
    "#### Exercise 7 - Make a variable named odds_in_a. It should hold only the odd numbers\n",
    "\n",
    "#### Exercise 8 - Make a variable named evens_in_a. It should hold only the evens.\n",
    "\n",
    "##### What about life in two dimensions? A list of lists is matrix, a table, a spreadsheet, a chessboard...\n",
    "\n",
    "\n"
   ]
  },
  {
   "cell_type": "code",
   "execution_count": 15,
   "id": "405ba64c",
   "metadata": {},
   "outputs": [],
   "source": [
    "a = [1, 2, 3, 4, 5, 6, 7, 8, 9, 10]"
   ]
  },
  {
   "cell_type": "code",
   "execution_count": 16,
   "id": "6023a079",
   "metadata": {},
   "outputs": [
    {
     "data": {
      "text/plain": [
       "55"
      ]
     },
     "execution_count": 16,
     "metadata": {},
     "output_type": "execute_result"
    }
   ],
   "source": [
    "#Exercise 1 - \n",
    "sum_of_a = np.sum(a)\n",
    "\n",
    "sum_of_a"
   ]
  },
  {
   "cell_type": "code",
   "execution_count": 17,
   "id": "9f85d4c9",
   "metadata": {},
   "outputs": [
    {
     "data": {
      "text/plain": [
       "1"
      ]
     },
     "execution_count": 17,
     "metadata": {},
     "output_type": "execute_result"
    }
   ],
   "source": [
    "#Exercise 2\n",
    "min_of_a = np.min(a)\n",
    "\n",
    "min_of_a"
   ]
  },
  {
   "cell_type": "code",
   "execution_count": 18,
   "id": "eac014d6",
   "metadata": {},
   "outputs": [
    {
     "data": {
      "text/plain": [
       "10"
      ]
     },
     "execution_count": 18,
     "metadata": {},
     "output_type": "execute_result"
    }
   ],
   "source": [
    "#Exercise 3\n",
    "max_of_a = np.max(a)\n",
    "\n",
    "max_of_a"
   ]
  },
  {
   "cell_type": "code",
   "execution_count": 19,
   "id": "d2759ed4",
   "metadata": {},
   "outputs": [
    {
     "data": {
      "text/plain": [
       "5.5"
      ]
     },
     "execution_count": 19,
     "metadata": {},
     "output_type": "execute_result"
    }
   ],
   "source": [
    "#Exercise 4\n",
    "mean_of_a = np.mean(a)\n",
    "\n",
    "mean_of_a"
   ]
  },
  {
   "cell_type": "code",
   "execution_count": 20,
   "id": "7a139698",
   "metadata": {},
   "outputs": [
    {
     "data": {
      "text/plain": [
       "3628800"
      ]
     },
     "execution_count": 20,
     "metadata": {},
     "output_type": "execute_result"
    }
   ],
   "source": [
    "#Exercise 5\n",
    "product_of_a = np.prod(a)\n",
    "\n",
    "product_of_a"
   ]
  },
  {
   "cell_type": "code",
   "execution_count": 21,
   "id": "0fea04bd",
   "metadata": {},
   "outputs": [
    {
     "data": {
      "text/plain": [
       "array([  1,   4,   9,  16,  25,  36,  49,  64,  81, 100])"
      ]
     },
     "execution_count": 21,
     "metadata": {},
     "output_type": "execute_result"
    }
   ],
   "source": [
    "#Exercise 6\n",
    "squares_of_a = np.square(a)\n",
    "\n",
    "squares_of_a"
   ]
  },
  {
   "cell_type": "code",
   "execution_count": 22,
   "id": "f5f9bbaa",
   "metadata": {},
   "outputs": [
    {
     "data": {
      "text/plain": [
       "array([1, 3, 5, 7, 9])"
      ]
     },
     "execution_count": 22,
     "metadata": {},
     "output_type": "execute_result"
    }
   ],
   "source": [
    "#Exercise 7\n",
    "odds_in_a = np.array(a)\n",
    "\n",
    "\n",
    "odds_of_a = odds_in_a[odds_in_a %2 !=0]\n",
    "odds_of_a"
   ]
  },
  {
   "cell_type": "code",
   "execution_count": 23,
   "id": "9b7da21d",
   "metadata": {},
   "outputs": [
    {
     "data": {
      "text/plain": [
       "array([ 2,  4,  6,  8, 10])"
      ]
     },
     "execution_count": 23,
     "metadata": {},
     "output_type": "execute_result"
    }
   ],
   "source": [
    "#Exercise 8\n",
    "evens_in_a = np.array(a)\n",
    "\n",
    "\n",
    "evens_of_a = evens_in_a[evens_in_a %2 ==0]\n",
    "evens_of_a"
   ]
  },
  {
   "cell_type": "markdown",
   "id": "5228eaaf",
   "metadata": {},
   "source": [
    " ### What about life in two dimensions? A list of lists is matrix, a table, a spreadsheet, a chessboard...\n",
    "## Setup 2: Consider what it would take to find the sum, min, max, average, sum, product, and list of squares for this list of two lists.\n"
   ]
  },
  {
   "cell_type": "code",
   "execution_count": 24,
   "id": "fa20d7dd",
   "metadata": {},
   "outputs": [],
   "source": [
    "b = [\n",
    "    [3, 4, 5],\n",
    "    [6, 7, 8]\n",
    "]"
   ]
  },
  {
   "cell_type": "code",
   "execution_count": 25,
   "id": "a49bd79b",
   "metadata": {},
   "outputs": [],
   "source": [
    "b = np.array(b)"
   ]
  },
  {
   "cell_type": "code",
   "execution_count": 26,
   "id": "c2228743",
   "metadata": {},
   "outputs": [],
   "source": [
    "sum_of_b =0 \n",
    "for row in b:\n",
    "    sum_of_b += sum(row)"
   ]
  },
  {
   "cell_type": "code",
   "execution_count": 27,
   "id": "eb122106",
   "metadata": {},
   "outputs": [
    {
     "data": {
      "text/plain": [
       "33"
      ]
     },
     "execution_count": 27,
     "metadata": {},
     "output_type": "execute_result"
    }
   ],
   "source": [
    "sum_of_b"
   ]
  },
  {
   "cell_type": "code",
   "execution_count": 28,
   "id": "a81c8e62",
   "metadata": {},
   "outputs": [],
   "source": [
    " #refactor the following to use numpy. \n",
    "min_of_b = min(b[0]) if min(b[0]) <= min(b[1]) else min(b[1])  \n"
   ]
  },
  {
   "cell_type": "code",
   "execution_count": 29,
   "id": "ef1548b5",
   "metadata": {},
   "outputs": [
    {
     "data": {
      "text/plain": [
       "3"
      ]
     },
     "execution_count": 29,
     "metadata": {},
     "output_type": "execute_result"
    }
   ],
   "source": [
    "min_of_b"
   ]
  },
  {
   "cell_type": "code",
   "execution_count": 30,
   "id": "d53cd14a",
   "metadata": {},
   "outputs": [],
   "source": [
    "#refactor the following maximum calculation to find the answer with numpy.\n",
    "max_of_b = max(b[0]) if max(b[0]) >= max(b[1]) else max(b[1])\n"
   ]
  },
  {
   "cell_type": "code",
   "execution_count": 31,
   "id": "07737018",
   "metadata": {},
   "outputs": [
    {
     "data": {
      "text/plain": [
       "8"
      ]
     },
     "execution_count": 31,
     "metadata": {},
     "output_type": "execute_result"
    }
   ],
   "source": [
    "max_of_b"
   ]
  },
  {
   "cell_type": "code",
   "execution_count": 32,
   "id": "8ae9a094",
   "metadata": {},
   "outputs": [],
   "source": [
    " #refactor the following using numpy to find the mean of b\n",
    "mean_of_b = (sum(b[0]) + sum(b[1])) / (len(b[0]) + len(b[1]))\n"
   ]
  },
  {
   "cell_type": "code",
   "execution_count": 33,
   "id": "5027b6dc",
   "metadata": {},
   "outputs": [
    {
     "data": {
      "text/plain": [
       "5.5"
      ]
     },
     "execution_count": 33,
     "metadata": {},
     "output_type": "execute_result"
    }
   ],
   "source": [
    "mean_of_b"
   ]
  },
  {
   "cell_type": "code",
   "execution_count": 34,
   "id": "f33d3dc7",
   "metadata": {},
   "outputs": [],
   "source": [
    "#refactor the following to use numpy for calculating the product of all numbers multiplied together.\n",
    "product_of_b = 1\n",
    "for row in b:\n",
    "    for number in row:\n",
    "        product_of_b *= number\n"
   ]
  },
  {
   "cell_type": "code",
   "execution_count": 35,
   "id": "035282a8",
   "metadata": {},
   "outputs": [
    {
     "data": {
      "text/plain": [
       "20160"
      ]
     },
     "execution_count": 35,
     "metadata": {},
     "output_type": "execute_result"
    }
   ],
   "source": [
    "product_of_b"
   ]
  },
  {
   "cell_type": "code",
   "execution_count": 36,
   "id": "9656c374",
   "metadata": {},
   "outputs": [],
   "source": [
    "#refactor the following to use numpy to find the list of squares \n",
    "squares_of_b = []\n",
    "for row in b:\n",
    "    for number in row:\n",
    "        squares_of_b.append(number**2)\n"
   ]
  },
  {
   "cell_type": "code",
   "execution_count": 37,
   "id": "33812927",
   "metadata": {},
   "outputs": [
    {
     "data": {
      "text/plain": [
       "[9, 16, 25, 36, 49, 64]"
      ]
     },
     "execution_count": 37,
     "metadata": {},
     "output_type": "execute_result"
    }
   ],
   "source": [
    "squares_of_b"
   ]
  },
  {
   "cell_type": "code",
   "execution_count": 38,
   "id": "04ded277",
   "metadata": {},
   "outputs": [],
   "source": [
    "#refactor using numpy to determine the odds_in_b\n",
    "odds_in_b = []\n",
    "for row in b:\n",
    "    for number in row:\n",
    "        if(number % 2 != 0):\n",
    "            odds_in_b.append(number)\n"
   ]
  },
  {
   "cell_type": "code",
   "execution_count": 39,
   "id": "508a4684",
   "metadata": {},
   "outputs": [
    {
     "data": {
      "text/plain": [
       "[3, 5, 7]"
      ]
     },
     "execution_count": 39,
     "metadata": {},
     "output_type": "execute_result"
    }
   ],
   "source": [
    "odds_in_b"
   ]
  },
  {
   "cell_type": "code",
   "execution_count": 40,
   "id": "57d177dd",
   "metadata": {},
   "outputs": [],
   "source": [
    "#refactor the following to use numpy to filter only the even numbers\n",
    "evens_in_b = []\n",
    "for row in b:\n",
    "    for number in row:\n",
    "        if(number % 2 == 0):\n",
    "            evens_in_b.append(number)"
   ]
  },
  {
   "cell_type": "code",
   "execution_count": 41,
   "id": "033c78cb",
   "metadata": {},
   "outputs": [
    {
     "data": {
      "text/plain": [
       "[4, 6, 8]"
      ]
     },
     "execution_count": 41,
     "metadata": {},
     "output_type": "execute_result"
    }
   ],
   "source": [
    "evens_in_b"
   ]
  },
  {
   "cell_type": "code",
   "execution_count": 42,
   "id": "49de06b7",
   "metadata": {},
   "outputs": [
    {
     "data": {
      "text/plain": [
       "(2, 3)"
      ]
     },
     "execution_count": 42,
     "metadata": {},
     "output_type": "execute_result"
    }
   ],
   "source": [
    "# Exercise 9 - print out the shape of the array b.\n",
    "b.shape"
   ]
  },
  {
   "cell_type": "code",
   "execution_count": 43,
   "id": "dc17b7b5",
   "metadata": {},
   "outputs": [
    {
     "data": {
      "text/plain": [
       "array([[3, 6],\n",
       "       [4, 7],\n",
       "       [5, 8]])"
      ]
     },
     "execution_count": 43,
     "metadata": {},
     "output_type": "execute_result"
    }
   ],
   "source": [
    "# Exercise 10 - transpose the array b.\n",
    "b.T"
   ]
  },
  {
   "cell_type": "code",
   "execution_count": null,
   "id": "0a2e4a6f",
   "metadata": {},
   "outputs": [],
   "source": []
  }
 ],
 "metadata": {
  "kernelspec": {
   "display_name": "Python 3",
   "language": "python",
   "name": "python3"
  },
  "language_info": {
   "codemirror_mode": {
    "name": "ipython",
    "version": 3
   },
   "file_extension": ".py",
   "mimetype": "text/x-python",
   "name": "python",
   "nbconvert_exporter": "python",
   "pygments_lexer": "ipython3",
   "version": "3.8.8"
  }
 },
 "nbformat": 4,
 "nbformat_minor": 5
}
